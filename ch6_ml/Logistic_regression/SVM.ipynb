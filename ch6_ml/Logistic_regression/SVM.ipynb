{
 "metadata": {
  "language_info": {
   "codemirror_mode": {
    "name": "ipython",
    "version": 3
   },
   "file_extension": ".py",
   "mimetype": "text/x-python",
   "name": "python",
   "nbconvert_exporter": "python",
   "pygments_lexer": "ipython3",
   "version": "3.6.1-final"
  },
  "orig_nbformat": 2,
  "kernelspec": {
   "name": "python36164bit5aabf4a0dca14743aea893942e508451",
   "display_name": "Python 3.6.1 64-bit"
  }
 },
 "nbformat": 4,
 "nbformat_minor": 2,
 "cells": [
  {
   "cell_type": "code",
   "execution_count": 1,
   "metadata": {},
   "outputs": [],
   "source": [
    "from sklearn import svm\n",
    "from sklearn.linear_model import LogisticRegression\n",
    "from sklearn.datasets import load_wine\n",
    "import numpy as np \n",
    "from sklearn.model_selection import train_test_split\n",
    "from sklearn.metrics import accuracy_score\n",
    "import matplotlib.pyplot as plt\n"
   ]
  },
  {
   "cell_type": "code",
   "execution_count": 2,
   "metadata": {},
   "outputs": [],
   "source": [
    "winedata = load_wine()\n",
    "X = winedata['data']\n",
    "fea_index =[6,9]\n",
    "X = X[:, fea_index]\n",
    "y = winedata.target\n",
    "classes = list(winedata.target_names)\n",
    "feature_names = winedata.feature_names"
   ]
  },
  {
   "cell_type": "code",
   "execution_count": 3,
   "metadata": {},
   "outputs": [],
   "source": [
    "x_train, x_test, y_train, y_test = train_test_split(X,y, random_state =1)"
   ]
  },
  {
   "cell_type": "code",
   "execution_count": 4,
   "metadata": {},
   "outputs": [],
   "source": [
    "svmclf = svm.SVC(kernel = 'poly', C =1).fit(x_train, y_train)\n",
    "softmax = LogisticRegression(multi_class = 'multinomial', solver = 'sag').fit(x_train,y_train)\n"
   ]
  },
  {
   "cell_type": "code",
   "execution_count": 5,
   "metadata": {},
   "outputs": [],
   "source": [
    "svm_pred = svmclf.predict(x_test)\n",
    "softmax_pred = softmax.predict(x_test)"
   ]
  },
  {
   "cell_type": "code",
   "execution_count": 6,
   "metadata": {
    "tags": []
   },
   "outputs": [
    {
     "output_type": "stream",
     "name": "stdout",
     "text": "0.9777777777777777\n"
    }
   ],
   "source": [
    "print (accuracy_score (y_test ,svm_pred))"
   ]
  },
  {
   "cell_type": "code",
   "execution_count": 7,
   "metadata": {
    "tags": []
   },
   "outputs": [
    {
     "output_type": "stream",
     "name": "stdout",
     "text": "0.9555555555555556\n"
    }
   ],
   "source": [
    "print (accuracy_score (y_test ,softmax_pred))"
   ]
  },
  {
   "cell_type": "code",
   "execution_count": 10,
   "metadata": {},
   "outputs": [],
   "source": [
    "import matplotlib.pyplot as plt\n",
    "import matplotlib.colors as mcolors\n",
    "\n",
    "feature_1 =  X[:,0] # flavanoids\n",
    "feature_2 = X[:,1] # color_intensity\n",
    "x_min, x_max = feature_1.min() - .5, feature_1.max() + .5\n",
    "y_min, y_max = feature_2.min() - .5, feature_2.max() + .5\n",
    "h = .01  # step size in the mesh\n",
    "x_grid, y_grid = np.meshgrid(np.arange(x_min, x_max, h), np.arange(y_min, y_max, h))\n",
    "Z = svmclf.predict(np.c_[x_grid.ravel(), y_grid.ravel()])\n",
    "\n",
    "# Put the result into a color plot\n",
    "Z = Z.reshape(x_grid.shape) \n",
    "plt.figure(2)\n",
    "backcolors= ['palegreen', 'azure', 'lemonchiffon']\n",
    "plt.pcolormesh(x_grid, y_grid, Z, cmap= mcolors.ListedColormap(backcolors))\n",
    "\n",
    "classes = ['Class 0 wine', 'Class 1 wine', 'Class 2 wine']\n",
    "colors = [ 'forestgreen','slateblue', 'goldenrod']\n",
    "scatter = plt.scatter(feature_1, feature_2, c= y, cmap = mcolors.ListedColormap(colors))\n",
    "plt.xlabel(feature_names[fea_index[0]])\n",
    "plt.ylabel(feature_names[fea_index[1]])\n",
    "plt.legend(handles=scatter.legend_elements()[0], labels=classes)\n",
    "plt.show()\n"
   ]
  },
  {
   "cell_type": "code",
   "execution_count": null,
   "metadata": {},
   "outputs": [],
   "source": []
  }
 ]
}